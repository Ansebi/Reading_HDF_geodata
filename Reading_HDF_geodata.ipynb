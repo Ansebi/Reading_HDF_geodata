{
  "nbformat": 4,
  "nbformat_minor": 0,
  "metadata": {
    "colab": {
      "provenance": [],
      "authorship_tag": "ABX9TyOc4WjerPbmE5fkQ1yM6KT8",
      "include_colab_link": true
    },
    "kernelspec": {
      "name": "python3",
      "display_name": "Python 3"
    },
    "language_info": {
      "name": "python"
    }
  },
  "cells": [
    {
      "cell_type": "markdown",
      "metadata": {
        "id": "view-in-github",
        "colab_type": "text"
      },
      "source": [
        "<a href=\"https://colab.research.google.com/github/Ansebi/Reading_HDF_geodata/blob/main/Reading_HDF_geodata.ipynb\" target=\"_parent\"><img src=\"https://colab.research.google.com/assets/colab-badge.svg\" alt=\"Open In Colab\"/></a>"
      ]
    },
    {
      "cell_type": "code",
      "source": [
        "!pip install rioxarray --quiet"
      ],
      "metadata": {
        "id": "KxOi-jPyPHge"
      },
      "execution_count": null,
      "outputs": []
    },
    {
      "cell_type": "code",
      "source": [
        "!pip install geopandas --quiet"
      ],
      "metadata": {
        "colab": {
          "base_uri": "https://localhost:8080/"
        },
        "id": "jW3YW1hxPSn4",
        "outputId": "afd26f67-4d57-49c5-f318-281c0e5c4040"
      },
      "execution_count": null,
      "outputs": [
        {
          "output_type": "stream",
          "name": "stdout",
          "text": [
            "\u001b[K     |████████████████████████████████| 1.1 MB 15.8 MB/s \n",
            "\u001b[K     |████████████████████████████████| 16.6 MB 70.8 MB/s \n",
            "\u001b[?25h"
          ]
        }
      ]
    },
    {
      "cell_type": "code",
      "source": [
        "!pip install earthpy --quiet"
      ],
      "metadata": {
        "colab": {
          "base_uri": "https://localhost:8080/"
        },
        "id": "lzYAhA_UPgMn",
        "outputId": "bf4822c4-d860-4e72-9242-9b6561ff61fb"
      },
      "execution_count": null,
      "outputs": [
        {
          "output_type": "stream",
          "name": "stdout",
          "text": [
            "\u001b[?25l\r\u001b[K     |▎                               | 10 kB 22.2 MB/s eta 0:00:01\r\u001b[K     |▌                               | 20 kB 28.8 MB/s eta 0:00:01\r\u001b[K     |▊                               | 30 kB 36.4 MB/s eta 0:00:01\r\u001b[K     |█                               | 40 kB 27.0 MB/s eta 0:00:01\r\u001b[K     |█▏                              | 51 kB 30.9 MB/s eta 0:00:01\r\u001b[K     |█▍                              | 61 kB 35.0 MB/s eta 0:00:01\r\u001b[K     |█▊                              | 71 kB 20.6 MB/s eta 0:00:01\r\u001b[K     |██                              | 81 kB 22.3 MB/s eta 0:00:01\r\u001b[K     |██▏                             | 92 kB 24.2 MB/s eta 0:00:01\r\u001b[K     |██▍                             | 102 kB 22.4 MB/s eta 0:00:01\r\u001b[K     |██▋                             | 112 kB 22.4 MB/s eta 0:00:01\r\u001b[K     |██▉                             | 122 kB 22.4 MB/s eta 0:00:01\r\u001b[K     |███▏                            | 133 kB 22.4 MB/s eta 0:00:01\r\u001b[K     |███▍                            | 143 kB 22.4 MB/s eta 0:00:01\r\u001b[K     |███▋                            | 153 kB 22.4 MB/s eta 0:00:01\r\u001b[K     |███▉                            | 163 kB 22.4 MB/s eta 0:00:01\r\u001b[K     |████                            | 174 kB 22.4 MB/s eta 0:00:01\r\u001b[K     |████▎                           | 184 kB 22.4 MB/s eta 0:00:01\r\u001b[K     |████▋                           | 194 kB 22.4 MB/s eta 0:00:01\r\u001b[K     |████▉                           | 204 kB 22.4 MB/s eta 0:00:01\r\u001b[K     |█████                           | 215 kB 22.4 MB/s eta 0:00:01\r\u001b[K     |█████▎                          | 225 kB 22.4 MB/s eta 0:00:01\r\u001b[K     |█████▌                          | 235 kB 22.4 MB/s eta 0:00:01\r\u001b[K     |█████▊                          | 245 kB 22.4 MB/s eta 0:00:01\r\u001b[K     |██████                          | 256 kB 22.4 MB/s eta 0:00:01\r\u001b[K     |██████▎                         | 266 kB 22.4 MB/s eta 0:00:01\r\u001b[K     |██████▌                         | 276 kB 22.4 MB/s eta 0:00:01\r\u001b[K     |██████▊                         | 286 kB 22.4 MB/s eta 0:00:01\r\u001b[K     |███████                         | 296 kB 22.4 MB/s eta 0:00:01\r\u001b[K     |███████▏                        | 307 kB 22.4 MB/s eta 0:00:01\r\u001b[K     |███████▍                        | 317 kB 22.4 MB/s eta 0:00:01\r\u001b[K     |███████▊                        | 327 kB 22.4 MB/s eta 0:00:01\r\u001b[K     |████████                        | 337 kB 22.4 MB/s eta 0:00:01\r\u001b[K     |████████▏                       | 348 kB 22.4 MB/s eta 0:00:01\r\u001b[K     |████████▍                       | 358 kB 22.4 MB/s eta 0:00:01\r\u001b[K     |████████▋                       | 368 kB 22.4 MB/s eta 0:00:01\r\u001b[K     |████████▉                       | 378 kB 22.4 MB/s eta 0:00:01\r\u001b[K     |█████████▏                      | 389 kB 22.4 MB/s eta 0:00:01\r\u001b[K     |█████████▍                      | 399 kB 22.4 MB/s eta 0:00:01\r\u001b[K     |█████████▋                      | 409 kB 22.4 MB/s eta 0:00:01\r\u001b[K     |█████████▉                      | 419 kB 22.4 MB/s eta 0:00:01\r\u001b[K     |██████████                      | 430 kB 22.4 MB/s eta 0:00:01\r\u001b[K     |██████████▎                     | 440 kB 22.4 MB/s eta 0:00:01\r\u001b[K     |██████████▋                     | 450 kB 22.4 MB/s eta 0:00:01\r\u001b[K     |██████████▉                     | 460 kB 22.4 MB/s eta 0:00:01\r\u001b[K     |███████████                     | 471 kB 22.4 MB/s eta 0:00:01\r\u001b[K     |███████████▎                    | 481 kB 22.4 MB/s eta 0:00:01\r\u001b[K     |███████████▌                    | 491 kB 22.4 MB/s eta 0:00:01\r\u001b[K     |███████████▊                    | 501 kB 22.4 MB/s eta 0:00:01\r\u001b[K     |████████████                    | 512 kB 22.4 MB/s eta 0:00:01\r\u001b[K     |████████████▎                   | 522 kB 22.4 MB/s eta 0:00:01\r\u001b[K     |████████████▌                   | 532 kB 22.4 MB/s eta 0:00:01\r\u001b[K     |████████████▊                   | 542 kB 22.4 MB/s eta 0:00:01\r\u001b[K     |█████████████                   | 552 kB 22.4 MB/s eta 0:00:01\r\u001b[K     |█████████████▏                  | 563 kB 22.4 MB/s eta 0:00:01\r\u001b[K     |█████████████▍                  | 573 kB 22.4 MB/s eta 0:00:01\r\u001b[K     |█████████████▊                  | 583 kB 22.4 MB/s eta 0:00:01\r\u001b[K     |██████████████                  | 593 kB 22.4 MB/s eta 0:00:01\r\u001b[K     |██████████████▏                 | 604 kB 22.4 MB/s eta 0:00:01\r\u001b[K     |██████████████▍                 | 614 kB 22.4 MB/s eta 0:00:01\r\u001b[K     |██████████████▋                 | 624 kB 22.4 MB/s eta 0:00:01\r\u001b[K     |██████████████▉                 | 634 kB 22.4 MB/s eta 0:00:01\r\u001b[K     |███████████████▏                | 645 kB 22.4 MB/s eta 0:00:01\r\u001b[K     |███████████████▍                | 655 kB 22.4 MB/s eta 0:00:01\r\u001b[K     |███████████████▋                | 665 kB 22.4 MB/s eta 0:00:01\r\u001b[K     |███████████████▉                | 675 kB 22.4 MB/s eta 0:00:01\r\u001b[K     |████████████████                | 686 kB 22.4 MB/s eta 0:00:01\r\u001b[K     |████████████████▎               | 696 kB 22.4 MB/s eta 0:00:01\r\u001b[K     |████████████████▋               | 706 kB 22.4 MB/s eta 0:00:01\r\u001b[K     |████████████████▉               | 716 kB 22.4 MB/s eta 0:00:01\r\u001b[K     |█████████████████               | 727 kB 22.4 MB/s eta 0:00:01\r\u001b[K     |█████████████████▎              | 737 kB 22.4 MB/s eta 0:00:01\r\u001b[K     |█████████████████▌              | 747 kB 22.4 MB/s eta 0:00:01\r\u001b[K     |█████████████████▊              | 757 kB 22.4 MB/s eta 0:00:01\r\u001b[K     |██████████████████              | 768 kB 22.4 MB/s eta 0:00:01\r\u001b[K     |██████████████████▎             | 778 kB 22.4 MB/s eta 0:00:01\r\u001b[K     |██████████████████▌             | 788 kB 22.4 MB/s eta 0:00:01\r\u001b[K     |██████████████████▊             | 798 kB 22.4 MB/s eta 0:00:01\r\u001b[K     |███████████████████             | 808 kB 22.4 MB/s eta 0:00:01\r\u001b[K     |███████████████████▏            | 819 kB 22.4 MB/s eta 0:00:01\r\u001b[K     |███████████████████▍            | 829 kB 22.4 MB/s eta 0:00:01\r\u001b[K     |███████████████████▊            | 839 kB 22.4 MB/s eta 0:00:01\r\u001b[K     |████████████████████            | 849 kB 22.4 MB/s eta 0:00:01\r\u001b[K     |████████████████████▏           | 860 kB 22.4 MB/s eta 0:00:01\r\u001b[K     |████████████████████▍           | 870 kB 22.4 MB/s eta 0:00:01\r\u001b[K     |████████████████████▋           | 880 kB 22.4 MB/s eta 0:00:01\r\u001b[K     |████████████████████▉           | 890 kB 22.4 MB/s eta 0:00:01\r\u001b[K     |█████████████████████▏          | 901 kB 22.4 MB/s eta 0:00:01\r\u001b[K     |█████████████████████▍          | 911 kB 22.4 MB/s eta 0:00:01\r\u001b[K     |█████████████████████▋          | 921 kB 22.4 MB/s eta 0:00:01\r\u001b[K     |█████████████████████▉          | 931 kB 22.4 MB/s eta 0:00:01\r\u001b[K     |██████████████████████          | 942 kB 22.4 MB/s eta 0:00:01\r\u001b[K     |██████████████████████▎         | 952 kB 22.4 MB/s eta 0:00:01\r\u001b[K     |██████████████████████▋         | 962 kB 22.4 MB/s eta 0:00:01\r\u001b[K     |██████████████████████▉         | 972 kB 22.4 MB/s eta 0:00:01\r\u001b[K     |███████████████████████         | 983 kB 22.4 MB/s eta 0:00:01\r\u001b[K     |███████████████████████▎        | 993 kB 22.4 MB/s eta 0:00:01\r\u001b[K     |███████████████████████▌        | 1.0 MB 22.4 MB/s eta 0:00:01\r\u001b[K     |███████████████████████▊        | 1.0 MB 22.4 MB/s eta 0:00:01\r\u001b[K     |████████████████████████        | 1.0 MB 22.4 MB/s eta 0:00:01\r\u001b[K     |████████████████████████▎       | 1.0 MB 22.4 MB/s eta 0:00:01\r\u001b[K     |████████████████████████▌       | 1.0 MB 22.4 MB/s eta 0:00:01\r\u001b[K     |████████████████████████▊       | 1.1 MB 22.4 MB/s eta 0:00:01\r\u001b[K     |█████████████████████████       | 1.1 MB 22.4 MB/s eta 0:00:01\r\u001b[K     |█████████████████████████▏      | 1.1 MB 22.4 MB/s eta 0:00:01\r\u001b[K     |█████████████████████████▍      | 1.1 MB 22.4 MB/s eta 0:00:01\r\u001b[K     |█████████████████████████▊      | 1.1 MB 22.4 MB/s eta 0:00:01\r\u001b[K     |██████████████████████████      | 1.1 MB 22.4 MB/s eta 0:00:01\r\u001b[K     |██████████████████████████▏     | 1.1 MB 22.4 MB/s eta 0:00:01\r\u001b[K     |██████████████████████████▍     | 1.1 MB 22.4 MB/s eta 0:00:01\r\u001b[K     |██████████████████████████▋     | 1.1 MB 22.4 MB/s eta 0:00:01\r\u001b[K     |██████████████████████████▉     | 1.1 MB 22.4 MB/s eta 0:00:01\r\u001b[K     |███████████████████████████▏    | 1.2 MB 22.4 MB/s eta 0:00:01\r\u001b[K     |███████████████████████████▍    | 1.2 MB 22.4 MB/s eta 0:00:01\r\u001b[K     |███████████████████████████▋    | 1.2 MB 22.4 MB/s eta 0:00:01\r\u001b[K     |███████████████████████████▉    | 1.2 MB 22.4 MB/s eta 0:00:01\r\u001b[K     |████████████████████████████    | 1.2 MB 22.4 MB/s eta 0:00:01\r\u001b[K     |████████████████████████████▎   | 1.2 MB 22.4 MB/s eta 0:00:01\r\u001b[K     |████████████████████████████▋   | 1.2 MB 22.4 MB/s eta 0:00:01\r\u001b[K     |████████████████████████████▉   | 1.2 MB 22.4 MB/s eta 0:00:01\r\u001b[K     |█████████████████████████████   | 1.2 MB 22.4 MB/s eta 0:00:01\r\u001b[K     |█████████████████████████████▎  | 1.2 MB 22.4 MB/s eta 0:00:01\r\u001b[K     |█████████████████████████████▌  | 1.3 MB 22.4 MB/s eta 0:00:01\r\u001b[K     |█████████████████████████████▊  | 1.3 MB 22.4 MB/s eta 0:00:01\r\u001b[K     |██████████████████████████████  | 1.3 MB 22.4 MB/s eta 0:00:01\r\u001b[K     |██████████████████████████████▎ | 1.3 MB 22.4 MB/s eta 0:00:01\r\u001b[K     |██████████████████████████████▌ | 1.3 MB 22.4 MB/s eta 0:00:01\r\u001b[K     |██████████████████████████████▊ | 1.3 MB 22.4 MB/s eta 0:00:01\r\u001b[K     |███████████████████████████████ | 1.3 MB 22.4 MB/s eta 0:00:01\r\u001b[K     |███████████████████████████████▏| 1.3 MB 22.4 MB/s eta 0:00:01\r\u001b[K     |███████████████████████████████▍| 1.3 MB 22.4 MB/s eta 0:00:01\r\u001b[K     |███████████████████████████████▊| 1.4 MB 22.4 MB/s eta 0:00:01\r\u001b[K     |████████████████████████████████| 1.4 MB 22.4 MB/s eta 0:00:01\r\u001b[K     |████████████████████████████████| 1.4 MB 22.4 MB/s \n",
            "\u001b[?25h"
          ]
        }
      ]
    },
    {
      "cell_type": "code",
      "execution_count": null,
      "metadata": {
        "colab": {
          "base_uri": "https://localhost:8080/",
          "height": 107
        },
        "id": "wwkB0SZeOCsU",
        "outputId": "ec295957-df8d-43e9-f112-849f999f73dd"
      },
      "outputs": [
        {
          "output_type": "stream",
          "name": "stdout",
          "text": [
            "Downloading from https://ndownloader.figshare.com/files/10960112\n",
            "Extracted output to /root/earth-analytics/data/cold-springs-modis-h4/.\n",
            "Downloading from https://ndownloader.figshare.com/files/10960109\n",
            "Extracted output to /root/earth-analytics/data/cold-springs-fire/.\n"
          ]
        },
        {
          "output_type": "execute_result",
          "data": {
            "text/plain": [
              "'/root/earth-analytics/data/cold-springs-fire/.'"
            ],
            "application/vnd.google.colaboratory.intrinsic+json": {
              "type": "string"
            }
          },
          "metadata": {},
          "execution_count": 36
        }
      ],
      "source": [
        "# Import packages\n",
        "import os\n",
        "import warnings\n",
        "\n",
        "import matplotlib.pyplot as plt\n",
        "import numpy.ma as ma\n",
        "import xarray as xr\n",
        "import rioxarray as rxr\n",
        "from shapely.geometry import mapping, box\n",
        "import geopandas as gpd\n",
        "import earthpy as et\n",
        "import earthpy.spatial as es\n",
        "import earthpy.plot as ep\n",
        "\n",
        "warnings.simplefilter('ignore')\n",
        "\n",
        "# Get the MODIS data\n",
        "et.data.get_data('cold-springs-modis-h4')\n",
        "\n",
        "# This download contains the fire boundary\n",
        "et.data.get_data('cold-springs-fire')"
      ]
    },
    {
      "cell_type": "code",
      "source": [
        "# Set working directory\n",
        "os.chdir(os.path.join(et.io.HOME,\n",
        "                      'earth-analytics',\n",
        "                      'data'))"
      ],
      "metadata": {
        "id": "d9HXV59obYRt"
      },
      "execution_count": null,
      "outputs": []
    },
    {
      "cell_type": "code",
      "source": [
        "/root/earth-analytics/data/cold-springs-modis-h4/07_july_2016/MOD09GA.A2016189.h09v05.006.2016191073856.hdf"
      ],
      "metadata": {
        "id": "xDLbwXX9bMkc"
      },
      "execution_count": null,
      "outputs": []
    },
    {
      "cell_type": "code",
      "source": [
        "# Create a path to the pre-fire MODIS h4 data\n",
        "modis_pre_path = os.path.join(\"cold-springs-modis-h4\",\n",
        "                              \"07_july_2016\",\n",
        "                              \"MOD09GA.A2016189.h09v05.006.2016191073856.hdf\")\n",
        "modis_pre_path"
      ],
      "metadata": {
        "colab": {
          "base_uri": "https://localhost:8080/",
          "height": 36
        },
        "id": "7j9qGaUGQA99",
        "outputId": "486c6f61-70c2-44e4-a24a-e79a4889fc02"
      },
      "execution_count": null,
      "outputs": [
        {
          "output_type": "execute_result",
          "data": {
            "text/plain": [
              "'cold-springs-modis-h4/07_july_2016/MOD09GA.A2016189.h09v05.006.2016191073856.hdf'"
            ],
            "application/vnd.google.colaboratory.intrinsic+json": {
              "type": "string"
            }
          },
          "metadata": {},
          "execution_count": 37
        }
      ]
    },
    {
      "cell_type": "code",
      "source": [
        "!pip install python-hdf4"
      ],
      "metadata": {
        "colab": {
          "base_uri": "https://localhost:8080/"
        },
        "id": "9bntNGtdWPo2",
        "outputId": "b42476f8-a14b-4beb-d5c5-69dc13113180"
      },
      "execution_count": null,
      "outputs": [
        {
          "output_type": "stream",
          "name": "stdout",
          "text": [
            "Looking in indexes: https://pypi.org/simple, https://us-python.pkg.dev/colab-wheels/public/simple/\n",
            "Collecting python-hdf4\n",
            "  Downloading python-hdf4-0.9.2.tar.gz (123 kB)\n",
            "\u001b[?25l\r\u001b[K     |██▋                             | 10 kB 17.9 MB/s eta 0:00:01\r\u001b[K     |█████▎                          | 20 kB 26.0 MB/s eta 0:00:01\r\u001b[K     |████████                        | 30 kB 33.7 MB/s eta 0:00:01\r\u001b[K     |██████████▋                     | 40 kB 16.7 MB/s eta 0:00:01\r\u001b[K     |█████████████▎                  | 51 kB 15.9 MB/s eta 0:00:01\r\u001b[K     |████████████████                | 61 kB 17.7 MB/s eta 0:00:01\r\u001b[K     |██████████████████▋             | 71 kB 19.2 MB/s eta 0:00:01\r\u001b[K     |█████████████████████▎          | 81 kB 21.1 MB/s eta 0:00:01\r\u001b[K     |████████████████████████        | 92 kB 23.2 MB/s eta 0:00:01\r\u001b[K     |██████████████████████████▋     | 102 kB 20.8 MB/s eta 0:00:01\r\u001b[K     |█████████████████████████████▎  | 112 kB 20.8 MB/s eta 0:00:01\r\u001b[K     |████████████████████████████████| 122 kB 20.8 MB/s eta 0:00:01\r\u001b[K     |████████████████████████████████| 123 kB 20.8 MB/s \n",
            "\u001b[?25hBuilding wheels for collected packages: python-hdf4\n",
            "  Building wheel for python-hdf4 (setup.py) ... \u001b[?25l\u001b[?25hdone\n",
            "  Created wheel for python-hdf4: filename=python_hdf4-0.9.2-cp38-cp38-linux_x86_64.whl size=256573 sha256=b756d1d3ccae5103fb1ba95d1ddc267cc9600b5e1f5becf5c134c77b68c2ec28\n",
            "  Stored in directory: /root/.cache/pip/wheels/df/7d/7d/cc36a9a5dc003d58fd0d5bc916a7def241aed38a9e3ea0df9c\n",
            "Successfully built python-hdf4\n",
            "Installing collected packages: python-hdf4\n",
            "Successfully installed python-hdf4-0.9.2\n"
          ]
        }
      ]
    },
    {
      "cell_type": "code",
      "source": [
        "from pyhdf.SD import SD, SDC"
      ],
      "metadata": {
        "id": "QH66mtxmV6gH"
      },
      "execution_count": null,
      "outputs": []
    },
    {
      "cell_type": "code",
      "source": [
        "sd = SD(modis_pre_path, SDC.READ)"
      ],
      "metadata": {
        "id": "HAga4r89Wf7X"
      },
      "execution_count": null,
      "outputs": []
    },
    {
      "cell_type": "code",
      "source": [
        "sd.datasets()"
      ],
      "metadata": {
        "colab": {
          "base_uri": "https://localhost:8080/"
        },
        "id": "eyseSBsNWlG_",
        "outputId": "c99b5b31-6051-4fa5-975d-5523945f11bb"
      },
      "execution_count": null,
      "outputs": [
        {
          "output_type": "execute_result",
          "data": {
            "text/plain": [
              "{'num_observations_1km': (('YDim:MODIS_Grid_1km_2D', 'XDim:MODIS_Grid_1km_2D'),\n",
              "  (1200, 1200),\n",
              "  20,\n",
              "  0),\n",
              " 'state_1km_1': (('YDim:MODIS_Grid_1km_2D', 'XDim:MODIS_Grid_1km_2D'),\n",
              "  (1200, 1200),\n",
              "  23,\n",
              "  1),\n",
              " 'SensorZenith_1': (('YDim:MODIS_Grid_1km_2D', 'XDim:MODIS_Grid_1km_2D'),\n",
              "  (1200, 1200),\n",
              "  22,\n",
              "  2),\n",
              " 'SensorAzimuth_1': (('YDim:MODIS_Grid_1km_2D', 'XDim:MODIS_Grid_1km_2D'),\n",
              "  (1200, 1200),\n",
              "  22,\n",
              "  3),\n",
              " 'Range_1': (('YDim:MODIS_Grid_1km_2D', 'XDim:MODIS_Grid_1km_2D'),\n",
              "  (1200, 1200),\n",
              "  23,\n",
              "  4),\n",
              " 'SolarZenith_1': (('YDim:MODIS_Grid_1km_2D', 'XDim:MODIS_Grid_1km_2D'),\n",
              "  (1200, 1200),\n",
              "  22,\n",
              "  5),\n",
              " 'SolarAzimuth_1': (('YDim:MODIS_Grid_1km_2D', 'XDim:MODIS_Grid_1km_2D'),\n",
              "  (1200, 1200),\n",
              "  22,\n",
              "  6),\n",
              " 'gflags_1': (('YDim:MODIS_Grid_1km_2D', 'XDim:MODIS_Grid_1km_2D'),\n",
              "  (1200, 1200),\n",
              "  21,\n",
              "  7),\n",
              " 'orbit_pnt_1': (('YDim:MODIS_Grid_1km_2D', 'XDim:MODIS_Grid_1km_2D'),\n",
              "  (1200, 1200),\n",
              "  20,\n",
              "  8),\n",
              " 'granule_pnt_1': (('YDim:MODIS_Grid_1km_2D', 'XDim:MODIS_Grid_1km_2D'),\n",
              "  (1200, 1200),\n",
              "  21,\n",
              "  9),\n",
              " 'num_observations_500m': (('YDim:MODIS_Grid_500m_2D',\n",
              "   'XDim:MODIS_Grid_500m_2D'),\n",
              "  (2400, 2400),\n",
              "  20,\n",
              "  10),\n",
              " 'sur_refl_b01_1': (('YDim:MODIS_Grid_500m_2D', 'XDim:MODIS_Grid_500m_2D'),\n",
              "  (2400, 2400),\n",
              "  22,\n",
              "  11),\n",
              " 'sur_refl_b02_1': (('YDim:MODIS_Grid_500m_2D', 'XDim:MODIS_Grid_500m_2D'),\n",
              "  (2400, 2400),\n",
              "  22,\n",
              "  12),\n",
              " 'sur_refl_b03_1': (('YDim:MODIS_Grid_500m_2D', 'XDim:MODIS_Grid_500m_2D'),\n",
              "  (2400, 2400),\n",
              "  22,\n",
              "  13),\n",
              " 'sur_refl_b04_1': (('YDim:MODIS_Grid_500m_2D', 'XDim:MODIS_Grid_500m_2D'),\n",
              "  (2400, 2400),\n",
              "  22,\n",
              "  14),\n",
              " 'sur_refl_b05_1': (('YDim:MODIS_Grid_500m_2D', 'XDim:MODIS_Grid_500m_2D'),\n",
              "  (2400, 2400),\n",
              "  22,\n",
              "  15),\n",
              " 'sur_refl_b06_1': (('YDim:MODIS_Grid_500m_2D', 'XDim:MODIS_Grid_500m_2D'),\n",
              "  (2400, 2400),\n",
              "  22,\n",
              "  16),\n",
              " 'sur_refl_b07_1': (('YDim:MODIS_Grid_500m_2D', 'XDim:MODIS_Grid_500m_2D'),\n",
              "  (2400, 2400),\n",
              "  22,\n",
              "  17),\n",
              " 'QC_500m_1': (('YDim:MODIS_Grid_500m_2D', 'XDim:MODIS_Grid_500m_2D'),\n",
              "  (2400, 2400),\n",
              "  25,\n",
              "  18),\n",
              " 'obscov_500m_1': (('YDim:MODIS_Grid_500m_2D', 'XDim:MODIS_Grid_500m_2D'),\n",
              "  (2400, 2400),\n",
              "  20,\n",
              "  19),\n",
              " 'iobs_res_1': (('YDim:MODIS_Grid_500m_2D', 'XDim:MODIS_Grid_500m_2D'),\n",
              "  (2400, 2400),\n",
              "  21,\n",
              "  20),\n",
              " 'q_scan_1': (('YDim:MODIS_Grid_500m_2D', 'XDim:MODIS_Grid_500m_2D'),\n",
              "  (2400, 2400),\n",
              "  21,\n",
              "  21),\n",
              " 'state_1km_c': (('Total_Additional_Observations_1km',), (2705510,), 23, 22),\n",
              " 'SensorZenith_c': (('Total_Additional_Observations_1km',),\n",
              "  (2705510,),\n",
              "  22,\n",
              "  23),\n",
              " 'SensorAzimuth_c': (('Total_Additional_Observations_1km',),\n",
              "  (2705510,),\n",
              "  22,\n",
              "  24),\n",
              " 'Range_c': (('Total_Additional_Observations_1km',), (2705510,), 23, 25),\n",
              " 'SolarZenith_c': (('Total_Additional_Observations_1km',), (2705510,), 22, 26),\n",
              " 'SolarAzimuth_c': (('Total_Additional_Observations_1km',),\n",
              "  (2705510,),\n",
              "  22,\n",
              "  27),\n",
              " 'gflags_c': (('Total_Additional_Observations_1km',), (2705510,), 21, 28),\n",
              " 'orbit_pnt_c': (('Total_Additional_Observations_1km',), (2705510,), 20, 29),\n",
              " 'granule_pnt_c': (('Total_Additional_Observations_1km',), (2705510,), 21, 30),\n",
              " 'nadd_obs_row_1km': (('YDim_1km',), (1200,), 24, 31),\n",
              " 'sur_refl_b01_c': (('Total_Additional_Observations_500m',),\n",
              "  (660129,),\n",
              "  22,\n",
              "  32),\n",
              " 'sur_refl_b02_c': (('Total_Additional_Observations_500m',),\n",
              "  (660129,),\n",
              "  22,\n",
              "  33),\n",
              " 'sur_refl_b03_c': (('Total_Additional_Observations_500m',),\n",
              "  (660129,),\n",
              "  22,\n",
              "  34),\n",
              " 'sur_refl_b04_c': (('Total_Additional_Observations_500m',),\n",
              "  (660129,),\n",
              "  22,\n",
              "  35),\n",
              " 'sur_refl_b05_c': (('Total_Additional_Observations_500m',),\n",
              "  (660129,),\n",
              "  22,\n",
              "  36),\n",
              " 'sur_refl_b06_c': (('Total_Additional_Observations_500m',),\n",
              "  (660129,),\n",
              "  22,\n",
              "  37),\n",
              " 'sur_refl_b07_c': (('Total_Additional_Observations_500m',),\n",
              "  (660129,),\n",
              "  22,\n",
              "  38),\n",
              " 'QC_500m_c': (('Total_Additional_Observations_500m',), (660129,), 25, 39),\n",
              " 'obscov_500m_c': (('Total_Additional_Observations_500m',), (660129,), 20, 40),\n",
              " 'iobs_res_c': (('Total_Additional_Observations_500m',), (660129,), 21, 41),\n",
              " 'q_scan_c': (('Total_Additional_Observations_500m',), (660129,), 21, 42),\n",
              " 'nadd_obs_row_500m': (('YDim_500m',), (2400,), 24, 43)}"
            ]
          },
          "metadata": {},
          "execution_count": 40
        }
      ]
    },
    {
      "cell_type": "code",
      "source": [
        "lai = sd.select('Lai_500m')"
      ],
      "metadata": {
        "id": "fbkAlUYbW7x2"
      },
      "execution_count": null,
      "outputs": []
    },
    {
      "cell_type": "code",
      "source": [
        "lai.dimensions()"
      ],
      "metadata": {
        "colab": {
          "base_uri": "https://localhost:8080/"
        },
        "id": "6ATAR0_zXCtJ",
        "outputId": "2d5b4d1a-14ef-4b9e-c884-d9faed0096a9"
      },
      "execution_count": null,
      "outputs": [
        {
          "output_type": "execute_result",
          "data": {
            "text/plain": [
              "{'YDim:MOD_Grid_MOD15A2H': 2400, 'XDim:MOD_Grid_MOD15A2H': 2400}"
            ]
          },
          "metadata": {},
          "execution_count": 24
        }
      ]
    },
    {
      "cell_type": "code",
      "source": [
        "from matplotlib.pyplot import imshow\n",
        "imshow(lai.get())"
      ],
      "metadata": {
        "colab": {
          "base_uri": "https://localhost:8080/",
          "height": 287
        },
        "id": "DNhVgAoaXmef",
        "outputId": "a902a3d8-4b2d-4215-b6f6-f9763db3272c"
      },
      "execution_count": null,
      "outputs": [
        {
          "output_type": "execute_result",
          "data": {
            "text/plain": [
              "<matplotlib.image.AxesImage at 0x7f51d6c076d0>"
            ]
          },
          "metadata": {},
          "execution_count": 25
        },
        {
          "output_type": "display_data",
          "data": {
            "text/plain": [
              "<Figure size 432x288 with 1 Axes>"
            ],
            "image/png": "[encoded data removed]"
          },
          "metadata": {
            "needs_background": "light"
          }
        }
      ]
    },
    {
      "cell_type": "code",
      "source": [
        "imshow(sd.select('sur_refl_b01_1').get(), cmap='gray')"
      ],
      "metadata": {
        "colab": {
          "base_uri": "https://localhost:8080/",
          "height": 287
        },
        "id": "x5AKNxPdX1lI",
        "outputId": "26707bcc-a00c-48f4-a4f6-f275434829ad"
      },
      "execution_count": null,
      "outputs": [
        {
          "output_type": "execute_result",
          "data": {
            "text/plain": [
              "<matplotlib.image.AxesImage at 0x7f51d554d5b0>"
            ]
          },
          "metadata": {},
          "execution_count": 45
        },
        {
          "output_type": "display_data",
          "data": {
            "text/plain": [
              "<Figure size 432x288 with 1 Axes>"
            ],
            "image/png": "[encoded data removed]"
          },
          "metadata": {
            "needs_background": "light"
          }
        }
      ]
    }
  ]
}